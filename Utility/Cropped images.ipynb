{
 "cells": [
  {
   "cell_type": "code",
   "execution_count": 1,
   "id": "8d8218d4",
   "metadata": {},
   "outputs": [
    {
     "name": "stdout",
     "output_type": "stream",
     "text": [
      "1\n",
      "2\n",
      "3\n",
      "4\n",
      "5\n",
      "6\n"
     ]
    }
   ],
   "source": [
    "import os\n",
    "#from PIL import Image\n",
    "import cv2 \n",
    "import numpy as np\n",
    "M = 64\n",
    "N = 64\n",
    "x1 = 0\n",
    "y1 = 0\n",
    "input_images_path = \"\"  #specify input path \n",
    "files_names = os.listdir(input_images_path)\n",
    "\n",
    "output_images_path = \"\"  #Specify output path\n",
    "\n",
    "count = 0\n",
    "for file_name in files_names:\n",
    "    image_path = input_images_path + \"/\" + file_name\n",
    "    img = cv2.imread(image_path, cv2.IMREAD_UNCHANGED)\n",
    "    \n",
    "    if img is None:\n",
    "        print(\"No found\")\n",
    "        \n",
    "    image_copy = img.copy() \n",
    "    imgheight=img.shape[0]\n",
    "    imgwidth=img.shape[1]\n",
    "\n",
    "    \n",
    "    for y in range(0, imgheight, M):\n",
    "        for x in range(0, imgwidth, N):\n",
    "            if (imgheight - y) < M or (imgwidth - x) < N:\n",
    "                break\n",
    "\n",
    "            y1 = y + M\n",
    "            x1 = x + N\n",
    "\n",
    "            # check whether the patch width or height exceeds the image width or height\n",
    "            if x1 >= imgwidth and y1 >= imgheight:\n",
    "                x1 = imgwidth - 1\n",
    "                y1 = imgheight - 1\n",
    "                #Crop into patches of size MxN\n",
    "                tiles = image_copy[y:y+M, x:x+N]\n",
    "                #Save each patch into file directory\n",
    "                \n",
    "                ##### For the following section, change to \".tif\" if is multispectral image, or \".npy\" for rgbd\n",
    "                \n",
    "                if(count<10):\n",
    "                    cv2.imwrite(output_images_path + \"00\" + str(count) + \".tif\", tiles)\n",
    "                    count = count + 1\n",
    "                elif(count<100):\n",
    "                    cv2.imwrite(output_images_path + \"0\" + str(count) + \".tif\", tiles)\n",
    "                    count = count + 1\n",
    "                elif(count<1000):\n",
    "                    cv2.imwrite(output_images_path + str(count) + \".tif\", tiles)\n",
    "                    count = count + 1\n",
    "                    \n",
    "            elif y1 >= imgheight: # when patch height exceeds the image height\n",
    "                y1 = imgheight - 1\n",
    "                #Crop into patches of size MxN\n",
    "                tiles = image_copy[y:y+M, x:x+N]\n",
    "                #Save each patch into file directory\n",
    "                if(count<10):\n",
    "                    cv2.imwrite(output_images_path + \"00\" + str(count) + \".tif\", tiles)\n",
    "                    count = count + 1\n",
    "                elif(count<100):\n",
    "                    cv2.imwrite(output_images_path + \"0\" + str(count) + \".tif\", tiles)\n",
    "                    count = count + 1\n",
    "                elif(count<1000):\n",
    "                    cv2.imwrite(output_images_path + str(count) + \".tif\", tiles)\n",
    "                    count = count + 1\n",
    "            elif x1 >= imgwidth: # when patch width exceeds the image width\n",
    "                x1 = imgwidth - 1\n",
    "                #Crop into patches of size MxN\n",
    "                tiles = image_copy[y:y+M, x:x+N]\n",
    "                #Save each patch into file directory\n",
    "                if(count<10):\n",
    "                    cv2.imwrite(output_images_path + \"00\" + str(count) + \".tif\", tiles)\n",
    "                    count = count + 1\n",
    "                elif(count<100):\n",
    "                    cv2.imwrite(output_images_path + \"0\" + str(count) + \".tif\", tiles)\n",
    "                    count = count + 1\n",
    "                elif(count<1000):\n",
    "                    cv2.imwrite(output_images_path + str(count) + \".tif\", tiles)\n",
    "                    count = count + 1\n",
    "            else:\n",
    "                #Crop into patches of size MxN\n",
    "                tiles = image_copy[y:y+M, x:x+N]\n",
    "                #Save each patch into file directory\n",
    "                if(count<10):\n",
    "                    cv2.imwrite(output_images_path + \"00\" + str(count) + \".tif\", tiles)\n",
    "                    count = count + 1\n",
    "                elif(count<100):\n",
    "                    cv2.imwrite(output_images_path + \"0\" + str(count) + \".tif\", tiles)\n",
    "                    count = count + 1\n",
    "                elif(count<1000):\n",
    "                    cv2.imwrite(output_images_path + str(count) + \".tif\", tiles)\n",
    "                    count = count + 1\n",
    "\n",
    "            print(count)\n",
    "\n",
    "\n"
   ]
  },
  {
   "cell_type": "code",
   "execution_count": 6,
   "id": "79b4f8fc",
   "metadata": {},
   "outputs": [
    {
     "data": {
      "text/plain": [
       "(64, 64, 1)"
      ]
     },
     "execution_count": 6,
     "metadata": {},
     "output_type": "execute_result"
    }
   ],
   "source": [
    "tiles.shape"
   ]
  },
  {
   "cell_type": "code",
   "execution_count": null,
   "id": "67fc9d38",
   "metadata": {},
   "outputs": [],
   "source": []
  },
  {
   "cell_type": "code",
   "execution_count": null,
   "id": "cf663cce",
   "metadata": {},
   "outputs": [],
   "source": []
  }
 ],
 "metadata": {
  "kernelspec": {
   "display_name": "Python 3 (ipykernel)",
   "language": "python",
   "name": "python3"
  },
  "language_info": {
   "codemirror_mode": {
    "name": "ipython",
    "version": 3
   },
   "file_extension": ".py",
   "mimetype": "text/x-python",
   "name": "python",
   "nbconvert_exporter": "python",
   "pygments_lexer": "ipython3",
   "version": "3.9.7"
  }
 },
 "nbformat": 4,
 "nbformat_minor": 5
}
