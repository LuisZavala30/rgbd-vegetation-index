{
 "cells": [
  {
   "cell_type": "code",
   "execution_count": 110,
   "id": "8cec7da7",
   "metadata": {},
   "outputs": [
    {
     "name": "stdout",
     "output_type": "stream",
     "text": [
      "Environment Ready\n"
     ]
    }
   ],
   "source": [
    "import cv2                                # state of the art computer vision algorithms library\n",
    "import numpy as np                        # fundamental package for scientific computing\n",
    "import matplotlib.pyplot as plt           # 2D plotting library producing publication quality figures\n",
    "import pyrealsense2 as rs                 # Intel RealSense cross-platform open-source API\n",
    "import os\n",
    "print(\"Environment Ready\") \n"
   ]
  },
  {
   "cell_type": "code",
   "execution_count": 113,
   "id": "ea0d2f60",
   "metadata": {},
   "outputs": [],
   "source": [
    "input_images_path = \"\"\n",
    "files_names = os.listdir(input_images_path)\n",
    "\n",
    "output_depth_path = \"\"\n",
    "output_rgb_path = \"\"\n",
    "output_R_path = \"\"\n",
    "output_G_path = \"\"\n",
    "output_B_path = \"\"\n",
    "\n",
    "\n",
    "count = 0\n",
    "for file_name in files_names:\n",
    "    image_path = input_images_path + \"/\" + file_name\n",
    "    pipe = rs.pipeline()\n",
    "    cfg = rs.config()\n",
    "    cfg.enable_device_from_file(image_path)\n",
    "        \n",
    "    profile = pipe.start(cfg)\n",
    "    for x in range(5):\n",
    "        pipe.wait_for_frames()\n",
    "        # Store next frameset for later processing:\n",
    "    frameset = pipe.wait_for_frames()\n",
    "    color_frame = frameset.get_color_frame()\n",
    "    depth_frame = frameset.get_depth_frame()\n",
    "    # Cleanup:\n",
    "    pipe.stop()\n",
    "    \n",
    "    color = np.asanyarray(color_frame.get_data())\n",
    "    colorizer = rs.colorizer()\n",
    "    colorized_depth = np.asanyarray(colorizer.colorize(depth_frame).get_data())\n",
    "    # Create alignment primitive with color as its target stream:\n",
    "    align = rs.align(rs.stream.color)\n",
    "    frameset = align.process(frameset)\n",
    "    # Update color and depth frames:\n",
    "    aligned_depth_frame = frameset.get_depth_frame()\n",
    "    colorized_depth = np.asanyarray(colorizer.colorize(aligned_depth_frame).get_data())\n",
    "    depth = np.asanyarray(aligned_depth_frame.get_data())\n",
    "    depth_scale = profile.get_device().first_depth_sensor().get_depth_scale()\n",
    "    depth = depth * depth_scale\n",
    "    \n",
    "\n",
    "    depth = depth[264:456,480:800].astype(float)\n",
    "    color = color[264:456,480:800].astype(float)\n",
    "    B,G,R = np.split(color, 3, axis=2)\n",
    "\n",
    "    if(count<10):\n",
    "        np.save(output_depth_path + \"00\" + str(count) + \".npy\", depth)\n",
    "        np.save(output_rgb_path + \"00\" + str(count) + \".npy\", color)\n",
    "        np.save(output_R_path + \"00\" + str(count) + \".npy\", R)\n",
    "        np.save(output_G_path + \"00\" + str(count) + \".npy\", G)\n",
    "        np.save(output_B_path + \"00\" + str(count) + \".npy\", B)\n",
    "\n",
    "        count = count + 1\n",
    "    elif(count<100):\n",
    "        np.save(output_depth_path + \"0\" + str(count) + \".npy\", depth)\n",
    "        np.save(output_rgb_path + \"0\" + str(count) + \".npy\", color)\n",
    "        np.save(output_R_path + \"0\" + str(count) + \".npy\", R)\n",
    "        np.save(output_G_path + \"0\" + str(count) + \".npy\", G)\n",
    "        np.save(output_B_path + \"0\" + str(count) + \".npy\", B)\n",
    "\n",
    "        count = count + 1\n",
    "    elif(count<1000):\n",
    "        np.save(output_depth_path + str(count) + \".npy\", depth)\n",
    "        np.save(output_rgb_path + str(count) + \".npy\", color)\n",
    "        np.save(output_R_path + str(count) + \".npy\", R)\n",
    "        np.save(output_G_path + str(count) + \".npy\", G)\n",
    "        np.save(output_B_path + str(count) + \".npy\", B)\n",
    "\n",
    "        count = count + 1\n",
    "\n",
    "\n"
   ]
  },
  {
   "cell_type": "code",
   "execution_count": null,
   "id": "61dd199a",
   "metadata": {},
   "outputs": [],
   "source": []
  },
  {
   "cell_type": "code",
   "execution_count": 108,
   "id": "52e0aa99",
   "metadata": {},
   "outputs": [],
   "source": []
  },
  {
   "cell_type": "code",
   "execution_count": null,
   "id": "ca923da0",
   "metadata": {},
   "outputs": [],
   "source": []
  },
  {
   "cell_type": "code",
   "execution_count": null,
   "id": "27926c4b",
   "metadata": {},
   "outputs": [],
   "source": []
  },
  {
   "cell_type": "code",
   "execution_count": null,
   "id": "722a1661",
   "metadata": {},
   "outputs": [],
   "source": []
  },
  {
   "cell_type": "code",
   "execution_count": 12,
   "id": "21279a08",
   "metadata": {},
   "outputs": [],
   "source": []
  },
  {
   "cell_type": "code",
   "execution_count": 17,
   "id": "c525d9e2",
   "metadata": {},
   "outputs": [],
   "source": []
  },
  {
   "cell_type": "code",
   "execution_count": null,
   "id": "ccb34f32",
   "metadata": {},
   "outputs": [],
   "source": []
  },
  {
   "cell_type": "code",
   "execution_count": null,
   "id": "4739c8a0",
   "metadata": {},
   "outputs": [],
   "source": []
  },
  {
   "cell_type": "code",
   "execution_count": null,
   "id": "713301d8",
   "metadata": {},
   "outputs": [],
   "source": []
  },
  {
   "cell_type": "code",
   "execution_count": null,
   "id": "5f87de1a",
   "metadata": {},
   "outputs": [],
   "source": []
  },
  {
   "cell_type": "code",
   "execution_count": null,
   "id": "d2d8c415",
   "metadata": {},
   "outputs": [],
   "source": []
  }
 ],
 "metadata": {
  "kernelspec": {
   "display_name": "Python 3 (ipykernel)",
   "language": "python",
   "name": "python3"
  },
  "language_info": {
   "codemirror_mode": {
    "name": "ipython",
    "version": 3
   },
   "file_extension": ".py",
   "mimetype": "text/x-python",
   "name": "python",
   "nbconvert_exporter": "python",
   "pygments_lexer": "ipython3",
   "version": "3.9.7"
  }
 },
 "nbformat": 4,
 "nbformat_minor": 5
}
